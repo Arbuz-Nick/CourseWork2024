{
 "cells": [
  {
   "cell_type": "code",
   "execution_count": 1,
   "id": "4b32c4b9",
   "metadata": {},
   "outputs": [
    {
     "name": "stdout",
     "output_type": "stream",
     "text": [
      "Requirement already satisfied: pydub in /Library/Frameworks/Python.framework/Versions/3.10/lib/python3.10/site-packages (0.25.1)\n",
      "Note: you may need to restart the kernel to use updated packages.\n"
     ]
    }
   ],
   "source": [
    "pip install pydub"
   ]
  },
  {
   "cell_type": "code",
   "execution_count": 105,
   "id": "042712ba",
   "metadata": {},
   "outputs": [],
   "source": [
    "import pandas as pd\n",
    "from pydub import AudioSegment\n",
    "from pydub.silence import split_on_silence\n",
    "import random\n",
    "import shutil\n",
    "import os\n",
    "from tqdm.auto import tqdm\n"
   ]
  },
  {
   "cell_type": "code",
   "execution_count": 9,
   "id": "3c783bee",
   "metadata": {},
   "outputs": [
    {
     "name": "stdout",
     "output_type": "stream",
     "text": [
      "Файл успешно преобразован в CSV.\n"
     ]
    }
   ],
   "source": [
    "import csv\n",
    "\n",
    "input_file_path = './data/LibriSpeech/SPEAKERS.TXT'  # Путь к вашему файлу с данными\n",
    "output_file_path = 'SPEAKERS.csv' # Путь к файлу CSV, который будет создан\n",
    "\n",
    "# Открываем исходный файл для чтения и целевой файл для записи\n",
    "with open(input_file_path, 'r') as infile, open(output_file_path, 'w', newline='') as outfile:\n",
    "    writer = csv.writer(outfile)\n",
    "    \n",
    "    # Записываем заголовок в CSV файл\n",
    "    writer.writerow(['ID', 'SEX', 'SUBSET', 'MINUTES', 'NAME'])\n",
    "    \n",
    "    # Проходим по каждой строке в исходном файле\n",
    "    for line in infile:\n",
    "        # Убираем начальные и конечные пробелы и символы переноса строки\n",
    "        line = line.strip()\n",
    "        # Пропускаем строки комментариев и пустые строки\n",
    "        if not line or line.startswith(';'):\n",
    "            continue\n",
    "        \n",
    "        # Разделяем строку по символу '|'\n",
    "        parts = [part.strip() for part in line.split('|')]\n",
    "        # Записываем данные в CSV\n",
    "        writer.writerow(parts)\n",
    "\n",
    "print(\"Файл успешно преобразован в CSV.\")\n"
   ]
  },
  {
   "cell_type": "code",
   "execution_count": 12,
   "id": "32125822",
   "metadata": {},
   "outputs": [
    {
     "name": "stderr",
     "output_type": "stream",
     "text": [
      "/var/folders/0l/2sk0lzs1471b1g3s6vt108c00000gn/T/ipykernel_73688/4199440838.py:1: FutureWarning: The error_bad_lines argument has been deprecated and will be removed in a future version. Use on_bad_lines in the future.\n",
      "\n",
      "\n",
      "  speakers = pd.read_csv('SPEAKERS.csv', error_bad_lines=False)\n",
      "b'Skipping line 34: expected 5 fields, saw 7\\n'\n"
     ]
    }
   ],
   "source": [
    "speakers = pd.read_csv('SPEAKERS.csv', error_bad_lines=False)"
   ]
  },
  {
   "cell_type": "code",
   "execution_count": 20,
   "id": "cfe8f6f3",
   "metadata": {},
   "outputs": [
    {
     "data": {
      "text/plain": [
       "'F'"
      ]
     },
     "execution_count": 20,
     "metadata": {},
     "output_type": "execute_result"
    }
   ],
   "source": [
    "list(speakers[speakers.ID == 14].SEX)[0]"
   ]
  },
  {
   "cell_type": "code",
   "execution_count": null,
   "id": "63ed711d",
   "metadata": {},
   "outputs": [],
   "source": [
    "\n",
    "# Загрузка аудиофайлов\n",
    "speech = AudioSegment.from_file(\"./data/LibriSpeech/dev-clean/1272/128104/1272-128104-0000.wav\", format=\"wav\")\n",
    "noise = AudioSegment.from_file(\"path_to_noise_file.wav\", format=\"wav\")\n",
    "\n",
    "# Разделение речи на слова\n",
    "chunks = split_on_silence(speech, min_silence_len=200, silence_thresh=-40)\n",
    "\n",
    "# Создание итоговых аудиофайлов\n",
    "speech_with_noise = AudioSegment()\n",
    "speech_with_silence = AudioSegment()\n",
    "\n",
    "# Индексы, где будет добавлен шум\n",
    "noise_indices = random.sample(range(len(chunks)), k=int(len(chunks) * 0.3))  # Добавляем шум в 30% случаев\n",
    "\n",
    "for i, chunk in enumerate(chunks):\n",
    "    if i in noise_indices:\n",
    "        # Вырезаем случайный сегмент шума длительностью с текущий чанк\n",
    "        start = random.randint(0, len(noise) - len(chunk))\n",
    "        noise_segment = noise[start:start + len(chunk)]\n",
    "\n",
    "        # Добавляем шум в аудио с речью\n",
    "        speech_with_noise += chunk.overlay(noise_segment)\n",
    "\n",
    "        # Добавляем тишину той же длительности, что и шум\n",
    "        silence = AudioSegment.silent(duration=len(chunk))\n",
    "        speech_with_silence += silence\n",
    "    else:\n",
    "        # Добавляем чистый чанк в оба файла\n",
    "        speech_with_noise += chunk\n",
    "        speech_with_silence += chunk\n",
    "\n",
    "# Экспорт аудиофайлов\n",
    "speech_with_noise.export(\"speech_with_noise.wav\", format=\"wav\")\n",
    "speech_with_silence.export(\"speech_with_silence.wav\", format=\"wav\")\n"
   ]
  },
  {
   "cell_type": "code",
   "execution_count": 23,
   "id": "315b0b53",
   "metadata": {},
   "outputs": [
    {
     "data": {
      "text/html": [
       "\n",
       "                    <audio controls>\n",
       "                        <source src=\"data:audio/mpeg;base64,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\" type=\"audio/mpeg\"/>\n",
       "                        Your browser does not support the audio element.\n",
       "                    </audio>\n",
       "                  "
      ],
      "text/plain": [
       "<pydub.audio_segment.AudioSegment at 0x11e6ea9b0>"
      ]
     },
     "execution_count": 23,
     "metadata": {},
     "output_type": "execute_result"
    }
   ],
   "source": [
    "AudioSegment.from_file(\"./data/LibriSpeech/dev-clean/1272/128104/1272-128104-0000.wav\", format=\"wav\")"
   ]
  },
  {
   "cell_type": "markdown",
   "id": "5eceeebe",
   "metadata": {},
   "source": [
    "# Разбиение шумов и текстов по полу"
   ]
  },
  {
   "cell_type": "code",
   "execution_count": 28,
   "id": "7b305b35",
   "metadata": {},
   "outputs": [],
   "source": [
    "source_folder = './data/dataset/vs_release_16k/audio_16k'\n",
    "target_folder = './data/noise'\n",
    "for file_name in os.listdir(source_folder):\n",
    "    if file_name.startswith('f'):\n",
    "        source_audio_path = os.path.join(source_folder, file_name)\n",
    "        target_audio_path = os.path.join(target_folder, 'female', file_name)\n",
    "    elif file_name.startswith('m'):\n",
    "        source_audio_path = os.path.join(source_folder, file_name)\n",
    "        target_audio_path = os.path.join(target_folder, 'male', file_name)\n",
    "    elif file_name.startswith('o'):\n",
    "        source_audio_path = os.path.join(source_folder, file_name)\n",
    "        target_audio_path = os.path.join(target_folder, 'other', file_name)\n",
    "\n",
    "    # Копирование аудиофайла в папку назначения\n",
    "    shutil.copy(source_audio_path, target_audio_path)\n",
    "#     print(f'File {file_name} has been copied to {target_folder}.')"
   ]
  },
  {
   "cell_type": "code",
   "execution_count": 94,
   "id": "bd350c00",
   "metadata": {},
   "outputs": [
    {
     "name": "stdout",
     "output_type": "stream",
     "text": [
      ".DS_Store\n",
      "174\n",
      "84\n"
     ]
    }
   ],
   "source": [
    "source_folder = './data/dataset/LibriSpeech/dev-clean'\n",
    "target_folder = './data/speech'\n",
    "for speaker_id in os.listdir(source_folder):\n",
    "    try:\n",
    "        speaker_sex = list(speakers[speakers.ID == int(speaker_id)].SEX)[0]\n",
    "        for chapter in os.listdir(os.path.join(source_folder, speaker_id)):\n",
    "            for file_name in os.listdir(os.path.join(source_folder, speaker_id, chapter)):\n",
    "                if file_name.endswith('.wav'):\n",
    "                    if speaker_sex == 'F':\n",
    "                        source_audio_path = os.path.join(source_folder, speaker_id, chapter, file_name)\n",
    "                        target_audio_path = os.path.join(target_folder, 'female', file_name)\n",
    "                    elif speaker_sex == 'M':\n",
    "                        source_audio_path = os.path.join(source_folder, speaker_id, chapter, file_name)\n",
    "                        target_audio_path = os.path.join(target_folder, 'male', file_name)\n",
    "                    elif speaker_sex == 'O' or len(speakers[speakers.ID == int(speaker_id)]) == 0:\n",
    "                        source_audio_path = os.path.join(source_folder, speaker_id, chapter, file_name)\n",
    "                        target_audio_path = os.path.join(target_folder, 'other', file_name)\n",
    "                    shutil.copy(source_audio_path, target_audio_path)\n",
    "    except:\n",
    "        print(speaker_id)\n",
    "        continue\n",
    "\n",
    "    # Копирование аудиофайла в папку назначения\n",
    "#     print(f'File {file_name} has been copied to {target_folder}.')"
   ]
  },
  {
   "cell_type": "markdown",
   "id": "81fa4cb3",
   "metadata": {},
   "source": [
    "# Подготовка датасета (зашумление)"
   ]
  },
  {
   "cell_type": "code",
   "execution_count": 106,
   "id": "b1ec8eff",
   "metadata": {},
   "outputs": [
    {
     "data": {
      "application/vnd.jupyter.widget-view+json": {
       "model_id": "595d050e3659473aa2e3af0e2c9e677d",
       "version_major": 2,
       "version_minor": 0
      },
      "text/plain": [
       "  0%|          | 0/5 [00:00<?, ?it/s]"
      ]
     },
     "metadata": {},
     "output_type": "display_data"
    },
    {
     "data": {
      "application/vnd.jupyter.widget-view+json": {
       "model_id": "4e12edc7a96240759e0a67298a501e12",
       "version_major": 2,
       "version_minor": 0
      },
      "text/plain": [
       "0it [00:00, ?it/s]"
      ]
     },
     "metadata": {},
     "output_type": "display_data"
    },
    {
     "data": {
      "application/vnd.jupyter.widget-view+json": {
       "model_id": "1ff29239b5244f58847d36d8974b9990",
       "version_major": 2,
       "version_minor": 0
      },
      "text/plain": [
       "  0%|          | 0/1272 [00:00<?, ?it/s]"
      ]
     },
     "metadata": {},
     "output_type": "display_data"
    },
    {
     "data": {
      "application/vnd.jupyter.widget-view+json": {
       "model_id": "63d3ebf282e44d8a8986ca4bdc42faf1",
       "version_major": 2,
       "version_minor": 0
      },
      "text/plain": [
       "  0%|          | 0/1339 [00:00<?, ?it/s]"
      ]
     },
     "metadata": {},
     "output_type": "display_data"
    }
   ],
   "source": [
    "source_folder = './data/speech'\n",
    "noise_folder = './data/noise'\n",
    "\n",
    "clean_result_folder = './data/clean_speech'\n",
    "noised_result_folder = './data/noised_speech'\n",
    "\n",
    "for sex in tqdm(os.listdir(source_folder)):\n",
    "    if sex.startswith('.'):\n",
    "        continue\n",
    "    for speech_path in tqdm(os.listdir(os.path.join(source_folder, sex))):\n",
    "        #         print(os.path.join(source_folder, sex, speech_path))\n",
    "        if speech_path.startswith('.'):\n",
    "            continue\n",
    "        speech = AudioSegment.from_file(os.path.join(source_folder, sex, speech_path), format=\"wav\")\n",
    "        # Разделение речи на слова\n",
    "        chunks = split_on_silence(speech, min_silence_len=100, silence_thresh=-40)\n",
    "        #         print(len(chunks))\n",
    "        # Загрузка аудиофайлов\n",
    "        #             speech = AudioSegment.from_file(\"./data/dataset/LibriSpeech/dev-clean/1272/128104/1272-128104-0000.wav\", format=\"wav\")\n",
    "        #             noise = AudioSegment.from_file(\"./data/noise/male/m0001_0_cough.wav\", format=\"wav\")\n",
    "\n",
    "\n",
    "        # for i in chunks:\n",
    "        #     display(i)\n",
    "        # Создание итоговых аудиофайлов\n",
    "        speech_with_noise = AudioSegment.empty()\n",
    "        speech_with_silence = AudioSegment.empty()\n",
    "\n",
    "        # Индексы, где будет добавлен шум\n",
    "        noise_indices = random.sample(range(len(chunks)), k=1 if len(chunks) == 1 else random.randint(1, min([3, len(chunks) - 1])))  # Добавляем шум в 30% случаев\n",
    "\n",
    "        for i, chunk in enumerate(chunks):\n",
    "            if i in noise_indices:\n",
    "                noise = AudioSegment.from_file(os.path.join(noise_folder, sex, random.choice(os.listdir(os.path.join(noise_folder, sex)))), format=\"wav\")\n",
    "                # Вырезаем случайный сегмент шума длительностью с текущий чанк\n",
    "                noise_len = len(noise) # random.randint(500, len(noise))\n",
    "                #                 noise_start = random.randint(0, noise_len)\n",
    "                #                 noise_segment = noise[noise_start:noise_start + noise_len]\n",
    "\n",
    "                # Добавляем шум в аудио с речью\n",
    "                speech_with_noise += noise # _segment\n",
    "\n",
    "                # Добавляем тишину той же длительности, что и шум\n",
    "                silence = AudioSegment.silent(duration=noise_len)\n",
    "                speech_with_silence += silence\n",
    "\n",
    "                speech_with_noise += chunk\n",
    "                speech_with_silence += chunk\n",
    "            else:\n",
    "                # Добавляем чистый чанк в оба файла\n",
    "                speech_with_noise += chunk\n",
    "                speech_with_silence += chunk\n",
    "\n",
    "        # Экспорт аудиофайлов\n",
    "        speech_with_noise.export(os.path.join(noised_result_folder, f\"{sex}_{speech_path}\"), format=\"wav\")\n",
    "        speech_with_silence.export(os.path.join(clean_result_folder, f\"{sex}_{speech_path}\"), format=\"wav\")\n"
   ]
  },
  {
   "cell_type": "code",
   "execution_count": null,
   "id": "345ed532",
   "metadata": {},
   "outputs": [],
   "source": []
  },
  {
   "cell_type": "code",
   "execution_count": null,
   "id": "f2fd53df",
   "metadata": {},
   "outputs": [],
   "source": []
  }
 ],
 "metadata": {
  "kernelspec": {
   "display_name": "Python 3 (ipykernel)",
   "language": "python",
   "name": "python3"
  },
  "language_info": {
   "codemirror_mode": {
    "name": "ipython",
    "version": 3
   },
   "file_extension": ".py",
   "mimetype": "text/x-python",
   "name": "python",
   "nbconvert_exporter": "python",
   "pygments_lexer": "ipython3",
   "version": "3.9.16"
  }
 },
 "nbformat": 4,
 "nbformat_minor": 5
}
